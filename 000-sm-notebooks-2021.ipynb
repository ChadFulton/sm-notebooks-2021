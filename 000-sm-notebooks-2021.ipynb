{
 "cells": [
  {
   "cell_type": "markdown",
   "metadata": {},
   "source": [
    "# Example notebooks for Statsmodels in 2021\n",
    "\n",
    "[Statsmodels](https://www.statsmodels.org/stable/index.html) contains many poweful statistical tools, but there aren't always enough examples of how and when to use it. In addition, as new features are added and some old components are deprecated, older examples can become obsolete. This set of example notebooks is intended to showcase some of the ways that Statsmodels can be used for data science and econometrics, with a plan to add new notebooks approximately every week in 2021. The focus will generally, but not exlusively, be on time series.\n",
    "\n",
    "More generally, this project has two other aims:\n",
    "\n",
    "1. Incorporate other pieces of the Python data science ecosystem\n",
    "2. Identify areas and ways in which Statsmodels can be improved (for example, models that are missing, functions that don't work well, or improvements to better itegrate with the general ecosystem)\n",
    "\n",
    "In addition to helping me explore new topics, hopefully these notebooks will provide some examples that will be useful to the Python community."
   ]
  }
 ],
 "metadata": {
  "kernelspec": {
   "display_name": "Python 3",
   "language": "python",
   "name": "python3"
  },
  "language_info": {
   "codemirror_mode": {
    "name": "ipython",
    "version": 3
   },
   "file_extension": ".py",
   "mimetype": "text/x-python",
   "name": "python",
   "nbconvert_exporter": "python",
   "pygments_lexer": "ipython3",
   "version": "3.8.5"
  }
 },
 "nbformat": 4,
 "nbformat_minor": 4
}
